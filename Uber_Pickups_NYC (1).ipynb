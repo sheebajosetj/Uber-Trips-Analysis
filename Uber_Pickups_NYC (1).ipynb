{
 "cells": [
  {
   "cell_type": "markdown",
   "id": "f6d500dd",
   "metadata": {},
   "source": [
    "## UBER PICKUPS IN NYC\n",
    "\n",
    "In this project, we are going to analyse the Uber Pickups in New York City. \n",
    "\n",
    "### ABOUT THE DATASET\n",
    "\n",
    "The dataset provided contains data on over 4.5 million Uber pickups in New York City from April to September 2014, and 14.3 million more Uber pickups from January to June 2015.\n",
    "\n",
    "#### Uber trip data from 2014\n",
    "\n",
    "There are six files of raw data on Uber pickups in New York City from April to September 2014. The files are separated by month and each has the following columns:\n",
    "* **Date/Time** : The date and time of the Uber pickup\n",
    "* **Lat** : The latitude of the Uber pickup\n",
    "* **Lon** : The longitude of the Uber pickup\n",
    "* **Base** : The TLC (Taxi & Limousine Commission) base company code affiliated with the Uber pickup\n",
    "\n",
    "These files are named:\n",
    "\n",
    "* `uber-raw-data-apr14.csv`\n",
    "* `uber-raw-data-aug14.csv`\n",
    "* `uber-raw-data-jul14.csv`\n",
    "* `uber-raw-data-jun14.csv`\n",
    "* `uber-raw-data-may14.csv`\n",
    "* `uber-raw-data-sep14.csv`\n",
    "\n",
    "#### Uber trip data from 2015\n",
    "\n",
    "Also included is the `file uber-raw-data-janjune-15.csv`. This file has the following columns:\n",
    "\n",
    "* **Dispatching_base_num** : The TLC base company code of the base that dispatched the Uber\n",
    "* **Pickup_date** : The date and time of the Uber pickup\n",
    "* **Affiliated_base_num** : The TLC base company code affiliated with the Uber pickup\n",
    "* **locationID** : The pickup location ID affiliated with the Uber pickup\n",
    "\n",
    "The `base` codes are for the following Uber bases (In the parentheses, we have code names in German which are used internally by Uber to categorize and manage their various service offerings.) :\n",
    "\n",
    "* **B02512 (Unter):** This corresponds to the Uber service category \"UberX\", which is the basic and most common service offering.\n",
    "* **B02598 (Hinter):** This corresponds to the Uber service category \"UberPOOL\", which allows riders heading in the same direction to share a ride and split the cost.\n",
    "* **B02617 (Weiter):** This corresponds to the Uber service category \"UberXL\", which offers larger vehicles such as SUVs and minivans for accommodating more passengers.\n",
    "* **B02682 (Schmecken):** This corresponds to the Uber service category \"UberSELECT\", which provides premium rides with high-end vehicles.\n",
    "* **B02764 (Danach-NY):** This corresponds to the Uber service category \"UberWAV\", which offers wheelchair-accessible vehicles for riders with accessibility needs.\n",
    "* **B02765 (Grun):** This corresponds to the Uber service category \"UberBLACK\", which provides luxury black car services with professional drivers.\n",
    "* **B02835 (Dreist):** This corresponds to the Uber service category \"UberSUV\", which offers larger luxury vehicles for accommodating more passengers.\n",
    "* **B02836 (Drinnen):** This corresponds to the Uber service category \"UberLUX\", which provides high-end luxury vehicles for a premium ride experience.\n",
    "\n",
    "<hr>"
   ]
  },
  {
   "cell_type": "markdown",
   "id": "fc84d57b",
   "metadata": {},
   "source": [
    "### 0. Meeting the library requirements\n",
    "\n",
    "In Jupyter Notebooks, you may encounter situations where you want to suppress warning messages that would normally be displayed. The `warnings` module in Python provides a way to control warning behavior in your code. By calling `filterwarnings('ignore')`, you instruct Python to ignore all warnings and not display them in the output. \n",
    "\n",
    "This can be useful in certain situations where you want to suppress warnings that might be irrelevant or distracting for your specific task. However, it's important to note that ignoring warnings globally can sometimes hide important information about potential issues or bugs in your code. It's generally recommended to use caution when suppressing warnings and consider whether it's necessary for your particular use case."
   ]
  },
  {
   "cell_type": "code",
   "execution_count": 4,
   "id": "be83a397",
   "metadata": {},
   "outputs": [],
   "source": [
    "import warnings\n",
    "warnings.filterwarnings('ignore')"
   ]
  },
  {
   "cell_type": "markdown",
   "id": "7d5dba17",
   "metadata": {},
   "source": [
    "Run the following cell to install the required libraries. Let's break down the command and its components:\n",
    "\n",
    "* `!`: The exclamation mark (!) at the beginning of the line indicates that the command should be executed as a shell command, rather than as a Python statement.\n",
    "* `pip3`: pip3 is a package installer for Python 3, used to install Python packages from the Python Package Index (PyPI).\n",
    "* `-q`: The -q flag stands for \"quiet\" and is used to suppress output or progress messages during the installation process. It makes the installation process less verbose.\n",
    "* `install:` This keyword tells pip3 that you want to install packages.\n",
    "* `numpy pandas matplotlib seaborn geopy folium datetime scipy sklearn tensorflow`: These are the names of the packages you want to install."
   ]
  },
  {
   "cell_type": "code",
   "execution_count": 5,
   "id": "7e48da9d",
   "metadata": {},
   "outputs": [],
   "source": [
    "# Importing the libraries installed\n",
    "\n",
    "%matplotlib inline\n",
    "\n",
    "import numpy as np\n",
    "import pandas as pd\n",
    "import matplotlib.pyplot as plt\n",
    "import seaborn as sns\n",
    "import geopy.distance\n",
    "\n",
    "from math import radians,cos,sin,asin,sqrt\n",
    "\n",
    "import folium\n",
    "from folium.plugins import HeatMap\n",
    "\n",
    "import datetime\n",
    "from scipy.stats import ttest_ind\n",
    "\n",
    "import matplotlib\n",
    "matplotlib.rcParams.update({'font.size': 12})"
   ]
  },
  {
   "cell_type": "markdown",
   "id": "08b07981",
   "metadata": {},
   "source": [
    "### 1. Loading the data\n",
    "\n",
    "Let's pick up the 2014 data for our analysis. We can see that there are 6 files for that. Out of which, we will pick `uber-raw-data-jul14.csv` to begin with."
   ]
  },
  {
   "cell_type": "code",
   "execution_count": 6,
   "id": "daeb5014",
   "metadata": {},
   "outputs": [],
   "source": [
    "uber_data = pd.read_csv('aug14.csv')"
   ]
  },
  {
   "cell_type": "code",
   "execution_count": 7,
   "id": "90f89ba2",
   "metadata": {
    "scrolled": true
   },
   "outputs": [
    {
     "data": {
      "text/html": [
       "<div>\n",
       "<style scoped>\n",
       "    .dataframe tbody tr th:only-of-type {\n",
       "        vertical-align: middle;\n",
       "    }\n",
       "\n",
       "    .dataframe tbody tr th {\n",
       "        vertical-align: top;\n",
       "    }\n",
       "\n",
       "    .dataframe thead th {\n",
       "        text-align: right;\n",
       "    }\n",
       "</style>\n",
       "<table border=\"1\" class=\"dataframe\">\n",
       "  <thead>\n",
       "    <tr style=\"text-align: right;\">\n",
       "      <th></th>\n",
       "      <th>Date/Time</th>\n",
       "      <th>Lat</th>\n",
       "      <th>Lon</th>\n",
       "      <th>Base</th>\n",
       "    </tr>\n",
       "  </thead>\n",
       "  <tbody>\n",
       "    <tr>\n",
       "      <th>0</th>\n",
       "      <td>8/1/2014 0:03:00</td>\n",
       "      <td>40.7366</td>\n",
       "      <td>-73.9906</td>\n",
       "      <td>B02512</td>\n",
       "    </tr>\n",
       "    <tr>\n",
       "      <th>1</th>\n",
       "      <td>8/1/2014 0:09:00</td>\n",
       "      <td>40.7260</td>\n",
       "      <td>-73.9918</td>\n",
       "      <td>B02512</td>\n",
       "    </tr>\n",
       "    <tr>\n",
       "      <th>2</th>\n",
       "      <td>8/1/2014 0:12:00</td>\n",
       "      <td>40.7209</td>\n",
       "      <td>-74.0507</td>\n",
       "      <td>B02512</td>\n",
       "    </tr>\n",
       "    <tr>\n",
       "      <th>3</th>\n",
       "      <td>8/1/2014 0:12:00</td>\n",
       "      <td>40.7387</td>\n",
       "      <td>-73.9856</td>\n",
       "      <td>B02512</td>\n",
       "    </tr>\n",
       "    <tr>\n",
       "      <th>4</th>\n",
       "      <td>8/1/2014 0:12:00</td>\n",
       "      <td>40.7323</td>\n",
       "      <td>-74.0077</td>\n",
       "      <td>B02512</td>\n",
       "    </tr>\n",
       "    <tr>\n",
       "      <th>5</th>\n",
       "      <td>8/1/2014 0:13:00</td>\n",
       "      <td>40.7349</td>\n",
       "      <td>-74.0033</td>\n",
       "      <td>B02512</td>\n",
       "    </tr>\n",
       "    <tr>\n",
       "      <th>6</th>\n",
       "      <td>8/1/2014 0:15:00</td>\n",
       "      <td>40.7279</td>\n",
       "      <td>-73.9542</td>\n",
       "      <td>B02512</td>\n",
       "    </tr>\n",
       "    <tr>\n",
       "      <th>7</th>\n",
       "      <td>8/1/2014 0:17:00</td>\n",
       "      <td>40.7210</td>\n",
       "      <td>-73.9937</td>\n",
       "      <td>B02512</td>\n",
       "    </tr>\n",
       "    <tr>\n",
       "      <th>8</th>\n",
       "      <td>8/1/2014 0:19:00</td>\n",
       "      <td>40.7195</td>\n",
       "      <td>-74.0060</td>\n",
       "      <td>B02512</td>\n",
       "    </tr>\n",
       "    <tr>\n",
       "      <th>9</th>\n",
       "      <td>8/1/2014 0:20:00</td>\n",
       "      <td>40.7448</td>\n",
       "      <td>-73.9799</td>\n",
       "      <td>B02512</td>\n",
       "    </tr>\n",
       "  </tbody>\n",
       "</table>\n",
       "</div>"
      ],
      "text/plain": [
       "          Date/Time      Lat      Lon    Base\n",
       "0  8/1/2014 0:03:00  40.7366 -73.9906  B02512\n",
       "1  8/1/2014 0:09:00  40.7260 -73.9918  B02512\n",
       "2  8/1/2014 0:12:00  40.7209 -74.0507  B02512\n",
       "3  8/1/2014 0:12:00  40.7387 -73.9856  B02512\n",
       "4  8/1/2014 0:12:00  40.7323 -74.0077  B02512\n",
       "5  8/1/2014 0:13:00  40.7349 -74.0033  B02512\n",
       "6  8/1/2014 0:15:00  40.7279 -73.9542  B02512\n",
       "7  8/1/2014 0:17:00  40.7210 -73.9937  B02512\n",
       "8  8/1/2014 0:19:00  40.7195 -74.0060  B02512\n",
       "9  8/1/2014 0:20:00  40.7448 -73.9799  B02512"
      ]
     },
     "metadata": {},
     "output_type": "display_data"
    }
   ],
   "source": [
    "# Print the first 10 elements\n",
    "display(uber_data.head(10))"
   ]
  },
  {
   "cell_type": "markdown",
   "id": "2594420e",
   "metadata": {},
   "source": [
    "### 2. Pre-processing the data"
   ]
  },
  {
   "cell_type": "markdown",
   "id": "62a90754",
   "metadata": {},
   "source": [
    "Let's first see the information about the dataframe. "
   ]
  },
  {
   "cell_type": "code",
   "execution_count": 8,
   "id": "dd6542ac",
   "metadata": {},
   "outputs": [
    {
     "name": "stdout",
     "output_type": "stream",
     "text": [
      "<class 'pandas.core.frame.DataFrame'>\n",
      "RangeIndex: 829275 entries, 0 to 829274\n",
      "Data columns (total 4 columns):\n",
      " #   Column     Non-Null Count   Dtype  \n",
      "---  ------     --------------   -----  \n",
      " 0   Date/Time  829275 non-null  object \n",
      " 1   Lat        829275 non-null  float64\n",
      " 2   Lon        829275 non-null  float64\n",
      " 3   Base       829275 non-null  object \n",
      "dtypes: float64(2), object(2)\n",
      "memory usage: 25.3+ MB\n",
      "None\n"
     ]
    }
   ],
   "source": [
    "print(uber_data.info())"
   ]
  },
  {
   "cell_type": "markdown",
   "id": "9bcfdc7d",
   "metadata": {},
   "source": [
    "#### 1. Change the type of the data in a column"
   ]
  },
  {
   "cell_type": "markdown",
   "id": "d0f746f1",
   "metadata": {},
   "source": [
    "Column `Date/Time` shows the data type as object. To find which object is that, we print the type of data in the first cell of the `Date/Time` column. On doing that, we come to know - it's of string type."
   ]
  },
  {
   "cell_type": "code",
   "execution_count": 9,
   "id": "bb82e03c",
   "metadata": {},
   "outputs": [
    {
     "name": "stdout",
     "output_type": "stream",
     "text": [
      "<class 'str'>\n"
     ]
    }
   ],
   "source": [
    "# Print the type of data in Date/Time \n",
    "print(type(uber_data.loc[0,'Date/Time']))"
   ]
  },
  {
   "cell_type": "markdown",
   "id": "b5f92738",
   "metadata": {},
   "source": [
    "Let's convert it to datetime format for easy indexing. \n",
    "\n",
    "* `pd.to_datetime():` This is a pandas function that converts a given input into a datetime object. It is used here to convert the values of the 'Date/Time' column to datetime format."
   ]
  },
  {
   "cell_type": "code",
   "execution_count": 10,
   "id": "3482fad3",
   "metadata": {},
   "outputs": [],
   "source": [
    "uber_data['Date/Time'] = pd.to_datetime(uber_data['Date/Time'])"
   ]
  },
  {
   "cell_type": "markdown",
   "id": "347f2a61",
   "metadata": {},
   "source": [
    "#### 2. Dividing the data in bins\n",
    "\n",
    "Let us divide each hour in existing Date/Time column into four smaller bins of 15 mins each: [0 mins - 15 mins], [15 mins - 30 mins], [30 mins - 45 mins] and [45 mins - 60 mins]. The purpose of binning the time values in this way could be to aggregate or group the data based on time intervals, allowing for analysis at a coarser level of granularity. This can be useful when analyzing patterns or trends that occur within specific time intervals. This will allow us to visualize the data more precisely.\n",
    "\n",
    "* `uber_data['Date/Time']`: This accesses the 'Date/Time' column in the uber_data DataFrame.\n",
    "* `.dt.floor('15min'):` This is a pandas datetime accessor (dt) method that performs floor division to round down the time values to the nearest 15-minute interval. The '15min' argument specifies the desired time interval."
   ]
  },
  {
   "cell_type": "code",
   "execution_count": 11,
   "id": "a89b0da1",
   "metadata": {},
   "outputs": [],
   "source": [
    "# Create a new column to store this new binned column\n",
    "uber_data['BinnedHour'] = uber_data['Date/Time'].dt.floor('15min')"
   ]
  },
  {
   "cell_type": "code",
   "execution_count": 12,
   "id": "9c37cf38",
   "metadata": {},
   "outputs": [
    {
     "data": {
      "text/plain": [
       "0        2014-08-01 00:00:00\n",
       "1        2014-08-01 00:00:00\n",
       "2        2014-08-01 00:00:00\n",
       "3        2014-08-01 00:00:00\n",
       "4        2014-08-01 00:00:00\n",
       "                 ...        \n",
       "829270   2014-08-31 23:45:00\n",
       "829271   2014-08-31 23:45:00\n",
       "829272   2014-08-31 23:45:00\n",
       "829273   2014-08-31 23:45:00\n",
       "829274   2014-08-31 23:45:00\n",
       "Name: BinnedHour, Length: 829275, dtype: datetime64[ns]"
      ]
     },
     "metadata": {},
     "output_type": "display_data"
    }
   ],
   "source": [
    "# Printing the new column - BinnedHour\n",
    "display(uber_data['BinnedHour'])"
   ]
  },
  {
   "cell_type": "markdown",
   "id": "d417a930",
   "metadata": {},
   "source": [
    "### 3. Visualising the data\n",
    "\n",
    "#### 1. Let us visualize the total uber rides per day in the month of July 2014"
   ]
  },
  {
   "cell_type": "code",
   "execution_count": 13,
   "id": "da469265",
   "metadata": {},
   "outputs": [
    {
     "data": {
      "image/png": "[encoded data removed]",
      "text/plain": [
       "<Figure size 1400x700 with 1 Axes>"
      ]
     },
     "metadata": {},
     "output_type": "display_data"
    }
   ],
   "source": [
    "plt.figure(figsize=(14,7))\n",
    "uber_data['BinnedHour'].dt.day.value_counts().sort_index().plot(kind='bar', color='green')\n",
    "for item in plt.gca().get_xticklabels():\n",
    "    item.set_rotation(45)\n",
    "plt.title('Uber Rides per day in July 2014 at NYC')\n",
    "plt.xlabel('Days')\n",
    "plt.ylabel('Rides')\n",
    "plt.show()"
   ]
  },
  {
   "cell_type": "markdown",
   "id": "b9bed3a5",
   "metadata": {},
   "source": [
    "Let's understand what's happening here.\n",
    "\n",
    "The first line, `plt.figure(figsize=(14,7))`, creates a new figure object with a specific size of 14 inches in width and 7 inches in height. This sets the dimensions of the plot that will be created.\n",
    "\n",
    "The next line, `uber_data['BinnedHour'].dt.day.value_counts().sort_index().plot(kind='bar',color='green')`, generates the bar chart using the 'BinnedHour' column. It performs several operations in sequence:\n",
    "* `.dt.day:` The .dt accessor allows access to datetime properties, and .day extracts the day component from the 'BinnedHour' column, considering the binned time values.\n",
    "* `.value_counts():` This method counts the occurrences of each unique day in the 'BinnedHour' column, providing a count for the number of rides on each day.\n",
    "* `.sort_index():` This sorts the index (day values) in ascending order.\n",
    "* `.plot(kind='bar', color='green'):` This plots the sorted counts as a bar chart, with each bar representing a day. The kind='bar' parameter specifies the type of plot, and color='green' sets the color of the bars to green.\n",
    "\n",
    "Then the lines `for item in plt.gca().get_xticklabels(): item.set_rotation(45)` rotate the x-axis tick labels by 45 degrees to improve readability. "
   ]
  },
  {
   "cell_type": "markdown",
   "id": "2cd5c163",
   "metadata": {},
   "source": [
    "#### Observation 1: There is a recurring pattern in the data! The frequency of trips increases and then decreases in a repeating pattern. "
   ]
  },
  {
   "cell_type": "markdown",
   "id": "0a935750",
   "metadata": {},
   "source": [
    "#### 2. Let us have a more closer look at it, say every 15 minutes from July 1 to July 31."
   ]
  },
  {
   "cell_type": "code",
   "execution_count": 14,
   "id": "32d51f28",
   "metadata": {},
   "outputs": [
    {
     "data": {
      "image/png": "[encoded data removed]",
      "text/plain": [
       "<Figure size 1400x700 with 1 Axes>"
      ]
     },
     "metadata": {},
     "output_type": "display_data"
    }
   ],
   "source": [
    "plt.figure(figsize=(14,7))\n",
    "uber_data['BinnedHour'].value_counts().sort_index().plot(c='darkblue', alpha=0.8)\n",
    "plt.title('Uber Rides every 15 mins in the month of July at NYC')\n",
    "plt.xlabel('Days')\n",
    "plt.ylabel('No. of Rides')\n",
    "plt.show()"
   ]
  },
  {
   "cell_type": "markdown",
   "id": "8c11519b",
   "metadata": {},
   "source": [
    "#### Observation 2: The underlying trend is clearly visible now. It conveys that in a day there are times when the pickups are very low and very high, and they seem to follow a pattern."
   ]
  },
  {
   "cell_type": "markdown",
   "id": "2e8196fd",
   "metadata": {},
   "source": [
    "#### Q. Which times correspond to the highest and lowest peaks in the plot above?"
   ]
  },
  {
   "cell_type": "code",
   "execution_count": 15,
   "id": "2c15db17",
   "metadata": {},
   "outputs": [
    {
     "data": {
      "text/plain": [
       "BinnedHour\n",
       "2014-08-12 18:30:00    901\n",
       "2014-08-12 18:15:00    816\n",
       "2014-08-21 21:45:00    698\n",
       "2014-08-21 23:00:00    670\n",
       "2014-08-21 22:00:00    659\n",
       "                      ... \n",
       "2014-08-12 02:15:00     24\n",
       "2014-08-26 02:30:00     24\n",
       "2014-08-05 02:15:00     23\n",
       "2014-08-12 02:45:00     14\n",
       "2014-08-12 03:15:00      5\n",
       "Name: count, Length: 2975, dtype: int64"
      ]
     },
     "metadata": {},
     "output_type": "display_data"
    }
   ],
   "source": [
    "display(uber_data['BinnedHour'].value_counts())"
   ]
  },
  {
   "cell_type": "markdown",
   "id": "b00b65eb",
   "metadata": {},
   "source": [
    "#### Ans. \n",
    "\n",
    "The highest peak corresponds to the time 19:15 (7:15 PM), 15th July 2014 and has a ride count of 915 and the lowest peak corresponds to the time 02:30, 7th July 2014 and has a ride count of 10."
   ]
  },
  {
   "cell_type": "markdown",
   "id": "d4ff0f6b",
   "metadata": {},
   "source": [
    "#### 3. Lets visualize the week wise trends in the data. \n",
    "\n",
    "For this, we will have to map each date into its day name using a dictionary. "
   ]
  },
  {
   "cell_type": "code",
   "execution_count": 16,
   "id": "31e67650",
   "metadata": {},
   "outputs": [
    {
     "data": {
      "text/plain": [
       "0         Friday\n",
       "1         Friday\n",
       "2         Friday\n",
       "3         Friday\n",
       "4         Friday\n",
       "           ...  \n",
       "829270    Sunday\n",
       "829271    Sunday\n",
       "829272    Sunday\n",
       "829273    Sunday\n",
       "829274    Sunday\n",
       "Name: Day, Length: 829275, dtype: object"
      ]
     },
     "metadata": {},
     "output_type": "display_data"
    }
   ],
   "source": [
    "# Defining a dictionary to map the weekday to day name\n",
    "DayMap = {0:'Monday', 1:'Tuesday', 2:'Wednesday', 3:'Thursday', 4:'Friday', 5:'Saturday', 6:'Sunday'}\n",
    "uber_data['Day'] = uber_data['BinnedHour'].dt.weekday.map(DayMap)\n",
    "display(uber_data['Day'])"
   ]
  },
  {
   "cell_type": "code",
   "execution_count": 17,
   "id": "27852abf",
   "metadata": {},
   "outputs": [
    {
     "data": {
      "text/html": [
       "<div>\n",
       "<style scoped>\n",
       "    .dataframe tbody tr th:only-of-type {\n",
       "        vertical-align: middle;\n",
       "    }\n",
       "\n",
       "    .dataframe tbody tr th {\n",
       "        vertical-align: top;\n",
       "    }\n",
       "\n",
       "    .dataframe thead th {\n",
       "        text-align: right;\n",
       "    }\n",
       "</style>\n",
       "<table border=\"1\" class=\"dataframe\">\n",
       "  <thead>\n",
       "    <tr style=\"text-align: right;\">\n",
       "      <th></th>\n",
       "      <th>Date</th>\n",
       "      <th>Time</th>\n",
       "    </tr>\n",
       "  </thead>\n",
       "  <tbody>\n",
       "    <tr>\n",
       "      <th>0</th>\n",
       "      <td>2014-08-01</td>\n",
       "      <td>00:00:00</td>\n",
       "    </tr>\n",
       "    <tr>\n",
       "      <th>1</th>\n",
       "      <td>2014-08-01</td>\n",
       "      <td>00:00:00</td>\n",
       "    </tr>\n",
       "    <tr>\n",
       "      <th>2</th>\n",
       "      <td>2014-08-01</td>\n",
       "      <td>00:00:00</td>\n",
       "    </tr>\n",
       "    <tr>\n",
       "      <th>3</th>\n",
       "      <td>2014-08-01</td>\n",
       "      <td>00:00:00</td>\n",
       "    </tr>\n",
       "    <tr>\n",
       "      <th>4</th>\n",
       "      <td>2014-08-01</td>\n",
       "      <td>00:00:00</td>\n",
       "    </tr>\n",
       "    <tr>\n",
       "      <th>...</th>\n",
       "      <td>...</td>\n",
       "      <td>...</td>\n",
       "    </tr>\n",
       "    <tr>\n",
       "      <th>829270</th>\n",
       "      <td>2014-08-31</td>\n",
       "      <td>23:45:00</td>\n",
       "    </tr>\n",
       "    <tr>\n",
       "      <th>829271</th>\n",
       "      <td>2014-08-31</td>\n",
       "      <td>23:45:00</td>\n",
       "    </tr>\n",
       "    <tr>\n",
       "      <th>829272</th>\n",
       "      <td>2014-08-31</td>\n",
       "      <td>23:45:00</td>\n",
       "    </tr>\n",
       "    <tr>\n",
       "      <th>829273</th>\n",
       "      <td>2014-08-31</td>\n",
       "      <td>23:45:00</td>\n",
       "    </tr>\n",
       "    <tr>\n",
       "      <th>829274</th>\n",
       "      <td>2014-08-31</td>\n",
       "      <td>23:45:00</td>\n",
       "    </tr>\n",
       "  </tbody>\n",
       "</table>\n",
       "<p>829275 rows × 2 columns</p>\n",
       "</div>"
      ],
      "text/plain": [
       "              Date      Time\n",
       "0       2014-08-01  00:00:00\n",
       "1       2014-08-01  00:00:00\n",
       "2       2014-08-01  00:00:00\n",
       "3       2014-08-01  00:00:00\n",
       "4       2014-08-01  00:00:00\n",
       "...            ...       ...\n",
       "829270  2014-08-31  23:45:00\n",
       "829271  2014-08-31  23:45:00\n",
       "829272  2014-08-31  23:45:00\n",
       "829273  2014-08-31  23:45:00\n",
       "829274  2014-08-31  23:45:00\n",
       "\n",
       "[829275 rows x 2 columns]"
      ]
     },
     "metadata": {},
     "output_type": "display_data"
    }
   ],
   "source": [
    "# Separating the date and time to other columns\n",
    "uber_data['Date'] = uber_data['BinnedHour'].dt.date\n",
    "uber_data['Time'] = uber_data['BinnedHour'].dt.time\n",
    "display(uber_data[['Date', 'Time']])\n"
   ]
  },
  {
   "cell_type": "code",
   "execution_count": 18,
   "id": "d4944465",
   "metadata": {},
   "outputs": [
    {
     "data": {
      "text/plain": [
       "0         Friday\n",
       "1         Friday\n",
       "2         Friday\n",
       "3         Friday\n",
       "4         Friday\n",
       "           ...  \n",
       "829270    Sunday\n",
       "829271    Sunday\n",
       "829272    Sunday\n",
       "829273    Sunday\n",
       "829274    Sunday\n",
       "Name: Day, Length: 829275, dtype: category\n",
       "Categories (7, object): ['Monday' < 'Tuesday' < 'Wednesday' < 'Thursday' < 'Friday' < 'Saturday' < 'Sunday']"
      ]
     },
     "metadata": {},
     "output_type": "display_data"
    }
   ],
   "source": [
    "# Defining ordered category of week days for easy sorting and visualization\n",
    "uber_data['Day'] = pd.Categorical(uber_data['Day'], \n",
    "                                  categories=['Monday','Tuesday','Wednesday','Thursday','Friday','Saturday','Sunday'],\n",
    "                                  ordered=True)\n",
    "display(uber_data['Day'])"
   ]
  },
  {
   "cell_type": "markdown",
   "id": "dfc7c34e",
   "metadata": {},
   "source": [
    "We now rearrange the dataset a bit for weekly analysis. "
   ]
  },
  {
   "cell_type": "code",
   "execution_count": 19,
   "id": "bef210f9",
   "metadata": {},
   "outputs": [
    {
     "data": {
      "text/html": [
       "<div>\n",
       "<style scoped>\n",
       "    .dataframe tbody tr th:only-of-type {\n",
       "        vertical-align: middle;\n",
       "    }\n",
       "\n",
       "    .dataframe tbody tr th {\n",
       "        vertical-align: top;\n",
       "    }\n",
       "\n",
       "    .dataframe thead th {\n",
       "        text-align: right;\n",
       "    }\n",
       "</style>\n",
       "<table border=\"1\" class=\"dataframe\">\n",
       "  <thead>\n",
       "    <tr style=\"text-align: right;\">\n",
       "      <th></th>\n",
       "      <th>Date</th>\n",
       "      <th>Day</th>\n",
       "      <th>Time</th>\n",
       "      <th>Rides</th>\n",
       "    </tr>\n",
       "  </thead>\n",
       "  <tbody>\n",
       "    <tr>\n",
       "      <th>0</th>\n",
       "      <td>2014-08-01</td>\n",
       "      <td>Monday</td>\n",
       "      <td>00:00:00</td>\n",
       "      <td>0</td>\n",
       "    </tr>\n",
       "    <tr>\n",
       "      <th>1</th>\n",
       "      <td>2014-08-01</td>\n",
       "      <td>Monday</td>\n",
       "      <td>00:15:00</td>\n",
       "      <td>0</td>\n",
       "    </tr>\n",
       "    <tr>\n",
       "      <th>2</th>\n",
       "      <td>2014-08-01</td>\n",
       "      <td>Monday</td>\n",
       "      <td>00:30:00</td>\n",
       "      <td>0</td>\n",
       "    </tr>\n",
       "    <tr>\n",
       "      <th>3</th>\n",
       "      <td>2014-08-01</td>\n",
       "      <td>Monday</td>\n",
       "      <td>00:45:00</td>\n",
       "      <td>0</td>\n",
       "    </tr>\n",
       "    <tr>\n",
       "      <th>4</th>\n",
       "      <td>2014-08-01</td>\n",
       "      <td>Monday</td>\n",
       "      <td>01:00:00</td>\n",
       "      <td>0</td>\n",
       "    </tr>\n",
       "    <tr>\n",
       "      <th>5</th>\n",
       "      <td>2014-08-01</td>\n",
       "      <td>Monday</td>\n",
       "      <td>01:15:00</td>\n",
       "      <td>0</td>\n",
       "    </tr>\n",
       "    <tr>\n",
       "      <th>6</th>\n",
       "      <td>2014-08-01</td>\n",
       "      <td>Monday</td>\n",
       "      <td>01:30:00</td>\n",
       "      <td>0</td>\n",
       "    </tr>\n",
       "    <tr>\n",
       "      <th>7</th>\n",
       "      <td>2014-08-01</td>\n",
       "      <td>Monday</td>\n",
       "      <td>01:45:00</td>\n",
       "      <td>0</td>\n",
       "    </tr>\n",
       "    <tr>\n",
       "      <th>8</th>\n",
       "      <td>2014-08-01</td>\n",
       "      <td>Monday</td>\n",
       "      <td>02:00:00</td>\n",
       "      <td>0</td>\n",
       "    </tr>\n",
       "    <tr>\n",
       "      <th>9</th>\n",
       "      <td>2014-08-01</td>\n",
       "      <td>Monday</td>\n",
       "      <td>02:15:00</td>\n",
       "      <td>0</td>\n",
       "    </tr>\n",
       "  </tbody>\n",
       "</table>\n",
       "</div>"
      ],
      "text/plain": [
       "         Date     Day      Time  Rides\n",
       "0  2014-08-01  Monday  00:00:00      0\n",
       "1  2014-08-01  Monday  00:15:00      0\n",
       "2  2014-08-01  Monday  00:30:00      0\n",
       "3  2014-08-01  Monday  00:45:00      0\n",
       "4  2014-08-01  Monday  01:00:00      0\n",
       "5  2014-08-01  Monday  01:15:00      0\n",
       "6  2014-08-01  Monday  01:30:00      0\n",
       "7  2014-08-01  Monday  01:45:00      0\n",
       "8  2014-08-01  Monday  02:00:00      0\n",
       "9  2014-08-01  Monday  02:15:00      0"
      ]
     },
     "execution_count": 19,
     "metadata": {},
     "output_type": "execute_result"
    }
   ],
   "source": [
    "weekly_data = uber_data.groupby(['Date','Day','Time']).count().dropna()\\\n",
    "                .rename(columns={'BinnedHour':'Rides'})['Rides'].reset_index()\n",
    "weekly_data.head(10)"
   ]
  },
  {
   "cell_type": "markdown",
   "id": "f8f51f97",
   "metadata": {},
   "source": [
    "We now group weekly data by days to plot total rides per week in July 2014."
   ]
  },
  {
   "cell_type": "code",
   "execution_count": 20,
   "id": "41ebb22b",
   "metadata": {},
   "outputs": [
    {
     "ename": "TypeError",
     "evalue": "unsupported operand type(s) for +: 'datetime.date' and 'datetime.date'",
     "output_type": "error",
     "traceback": [
      "\u001b[1;31m---------------------------------------------------------------------------\u001b[0m",
      "\u001b[1;31mTypeError\u001b[0m                                 Traceback (most recent call last)",
      "Cell \u001b[1;32mIn[20], line 2\u001b[0m\n\u001b[0;32m      1\u001b[0m \u001b[38;5;66;03m# Grouping the weekly_data daywise\u001b[39;00m\n\u001b[1;32m----> 2\u001b[0m daywise \u001b[38;5;241m=\u001b[39m \u001b[43mweekly_data\u001b[49m\u001b[38;5;241;43m.\u001b[39;49m\u001b[43mgroupby\u001b[49m\u001b[43m(\u001b[49m\u001b[38;5;124;43m'\u001b[39;49m\u001b[38;5;124;43mDay\u001b[39;49m\u001b[38;5;124;43m'\u001b[39;49m\u001b[43m)\u001b[49m\u001b[38;5;241;43m.\u001b[39;49m\u001b[43msum\u001b[49m\u001b[43m(\u001b[49m\u001b[43m)\u001b[49m\n\u001b[0;32m      3\u001b[0m display(daywise)\n",
      "File \u001b[1;32m~\\AppData\\Local\\Programs\\Python\\Python311\\Lib\\site-packages\\pandas\\core\\groupby\\groupby.py:2263\u001b[0m, in \u001b[0;36mGroupBy.sum\u001b[1;34m(self, numeric_only, min_count, engine, engine_kwargs)\u001b[0m\n\u001b[0;32m   2258\u001b[0m \u001b[38;5;28;01melse\u001b[39;00m:\n\u001b[0;32m   2259\u001b[0m     \u001b[38;5;66;03m# If we are grouping on categoricals we want unobserved categories to\u001b[39;00m\n\u001b[0;32m   2260\u001b[0m     \u001b[38;5;66;03m# return zero, rather than the default of NaN which the reindexing in\u001b[39;00m\n\u001b[0;32m   2261\u001b[0m     \u001b[38;5;66;03m# _agg_general() returns. GH #31422\u001b[39;00m\n\u001b[0;32m   2262\u001b[0m     \u001b[38;5;28;01mwith\u001b[39;00m com\u001b[38;5;241m.\u001b[39mtemp_setattr(\u001b[38;5;28mself\u001b[39m, \u001b[38;5;124m\"\u001b[39m\u001b[38;5;124mobserved\u001b[39m\u001b[38;5;124m\"\u001b[39m, \u001b[38;5;28;01mTrue\u001b[39;00m):\n\u001b[1;32m-> 2263\u001b[0m         result \u001b[38;5;241m=\u001b[39m \u001b[38;5;28;43mself\u001b[39;49m\u001b[38;5;241;43m.\u001b[39;49m\u001b[43m_agg_general\u001b[49m\u001b[43m(\u001b[49m\n\u001b[0;32m   2264\u001b[0m \u001b[43m            \u001b[49m\u001b[43mnumeric_only\u001b[49m\u001b[38;5;241;43m=\u001b[39;49m\u001b[43mnumeric_only\u001b[49m\u001b[43m,\u001b[49m\n\u001b[0;32m   2265\u001b[0m \u001b[43m            \u001b[49m\u001b[43mmin_count\u001b[49m\u001b[38;5;241;43m=\u001b[39;49m\u001b[43mmin_count\u001b[49m\u001b[43m,\u001b[49m\n\u001b[0;32m   2266\u001b[0m \u001b[43m            \u001b[49m\u001b[43malias\u001b[49m\u001b[38;5;241;43m=\u001b[39;49m\u001b[38;5;124;43m\"\u001b[39;49m\u001b[38;5;124;43msum\u001b[39;49m\u001b[38;5;124;43m\"\u001b[39;49m\u001b[43m,\u001b[49m\n\u001b[0;32m   2267\u001b[0m \u001b[43m            \u001b[49m\u001b[43mnpfunc\u001b[49m\u001b[38;5;241;43m=\u001b[39;49m\u001b[43mnp\u001b[49m\u001b[38;5;241;43m.\u001b[39;49m\u001b[43msum\u001b[49m\u001b[43m,\u001b[49m\n\u001b[0;32m   2268\u001b[0m \u001b[43m        \u001b[49m\u001b[43m)\u001b[49m\n\u001b[0;32m   2270\u001b[0m     \u001b[38;5;28;01mreturn\u001b[39;00m \u001b[38;5;28mself\u001b[39m\u001b[38;5;241m.\u001b[39m_reindex_output(result, fill_value\u001b[38;5;241m=\u001b[39m\u001b[38;5;241m0\u001b[39m)\n",
      "File \u001b[1;32m~\\AppData\\Local\\Programs\\Python\\Python311\\Lib\\site-packages\\pandas\\core\\groupby\\groupby.py:1422\u001b[0m, in \u001b[0;36mGroupBy._agg_general\u001b[1;34m(self, numeric_only, min_count, alias, npfunc)\u001b[0m\n\u001b[0;32m   1413\u001b[0m \u001b[38;5;129m@final\u001b[39m\n\u001b[0;32m   1414\u001b[0m \u001b[38;5;28;01mdef\u001b[39;00m \u001b[38;5;21m_agg_general\u001b[39m(\n\u001b[0;32m   1415\u001b[0m     \u001b[38;5;28mself\u001b[39m,\n\u001b[1;32m   (...)\u001b[0m\n\u001b[0;32m   1420\u001b[0m     npfunc: Callable,\n\u001b[0;32m   1421\u001b[0m ):\n\u001b[1;32m-> 1422\u001b[0m     result \u001b[38;5;241m=\u001b[39m \u001b[38;5;28;43mself\u001b[39;49m\u001b[38;5;241;43m.\u001b[39;49m\u001b[43m_cython_agg_general\u001b[49m\u001b[43m(\u001b[49m\n\u001b[0;32m   1423\u001b[0m \u001b[43m        \u001b[49m\u001b[43mhow\u001b[49m\u001b[38;5;241;43m=\u001b[39;49m\u001b[43malias\u001b[49m\u001b[43m,\u001b[49m\n\u001b[0;32m   1424\u001b[0m \u001b[43m        \u001b[49m\u001b[43malt\u001b[49m\u001b[38;5;241;43m=\u001b[39;49m\u001b[43mnpfunc\u001b[49m\u001b[43m,\u001b[49m\n\u001b[0;32m   1425\u001b[0m \u001b[43m        \u001b[49m\u001b[43mnumeric_only\u001b[49m\u001b[38;5;241;43m=\u001b[39;49m\u001b[43mnumeric_only\u001b[49m\u001b[43m,\u001b[49m\n\u001b[0;32m   1426\u001b[0m \u001b[43m        \u001b[49m\u001b[43mmin_count\u001b[49m\u001b[38;5;241;43m=\u001b[39;49m\u001b[43mmin_count\u001b[49m\u001b[43m,\u001b[49m\n\u001b[0;32m   1427\u001b[0m \u001b[43m    \u001b[49m\u001b[43m)\u001b[49m\n\u001b[0;32m   1428\u001b[0m     \u001b[38;5;28;01mreturn\u001b[39;00m result\u001b[38;5;241m.\u001b[39m__finalize__(\u001b[38;5;28mself\u001b[39m\u001b[38;5;241m.\u001b[39mobj, method\u001b[38;5;241m=\u001b[39m\u001b[38;5;124m\"\u001b[39m\u001b[38;5;124mgroupby\u001b[39m\u001b[38;5;124m\"\u001b[39m)\n",
      "File \u001b[1;32m~\\AppData\\Local\\Programs\\Python\\Python311\\Lib\\site-packages\\pandas\\core\\groupby\\groupby.py:1507\u001b[0m, in \u001b[0;36mGroupBy._cython_agg_general\u001b[1;34m(self, how, alt, numeric_only, min_count, **kwargs)\u001b[0m\n\u001b[0;32m   1503\u001b[0m         result \u001b[38;5;241m=\u001b[39m \u001b[38;5;28mself\u001b[39m\u001b[38;5;241m.\u001b[39m_agg_py_fallback(values, ndim\u001b[38;5;241m=\u001b[39mdata\u001b[38;5;241m.\u001b[39mndim, alt\u001b[38;5;241m=\u001b[39malt)\n\u001b[0;32m   1505\u001b[0m     \u001b[38;5;28;01mreturn\u001b[39;00m result\n\u001b[1;32m-> 1507\u001b[0m new_mgr \u001b[38;5;241m=\u001b[39m \u001b[43mdata\u001b[49m\u001b[38;5;241;43m.\u001b[39;49m\u001b[43mgrouped_reduce\u001b[49m\u001b[43m(\u001b[49m\u001b[43marray_func\u001b[49m\u001b[43m)\u001b[49m\n\u001b[0;32m   1508\u001b[0m res \u001b[38;5;241m=\u001b[39m \u001b[38;5;28mself\u001b[39m\u001b[38;5;241m.\u001b[39m_wrap_agged_manager(new_mgr)\n\u001b[0;32m   1509\u001b[0m out \u001b[38;5;241m=\u001b[39m \u001b[38;5;28mself\u001b[39m\u001b[38;5;241m.\u001b[39m_wrap_aggregated_output(res)\n",
      "File \u001b[1;32m~\\AppData\\Local\\Programs\\Python\\Python311\\Lib\\site-packages\\pandas\\core\\internals\\managers.py:1503\u001b[0m, in \u001b[0;36mBlockManager.grouped_reduce\u001b[1;34m(self, func)\u001b[0m\n\u001b[0;32m   1499\u001b[0m \u001b[38;5;28;01mif\u001b[39;00m blk\u001b[38;5;241m.\u001b[39mis_object:\n\u001b[0;32m   1500\u001b[0m     \u001b[38;5;66;03m# split on object-dtype blocks bc some columns may raise\u001b[39;00m\n\u001b[0;32m   1501\u001b[0m     \u001b[38;5;66;03m#  while others do not.\u001b[39;00m\n\u001b[0;32m   1502\u001b[0m     \u001b[38;5;28;01mfor\u001b[39;00m sb \u001b[38;5;129;01min\u001b[39;00m blk\u001b[38;5;241m.\u001b[39m_split():\n\u001b[1;32m-> 1503\u001b[0m         applied \u001b[38;5;241m=\u001b[39m \u001b[43msb\u001b[49m\u001b[38;5;241;43m.\u001b[39;49m\u001b[43mapply\u001b[49m\u001b[43m(\u001b[49m\u001b[43mfunc\u001b[49m\u001b[43m)\u001b[49m\n\u001b[0;32m   1504\u001b[0m         result_blocks \u001b[38;5;241m=\u001b[39m extend_blocks(applied, result_blocks)\n\u001b[0;32m   1505\u001b[0m \u001b[38;5;28;01melse\u001b[39;00m:\n",
      "File \u001b[1;32m~\\AppData\\Local\\Programs\\Python\\Python311\\Lib\\site-packages\\pandas\\core\\internals\\blocks.py:329\u001b[0m, in \u001b[0;36mBlock.apply\u001b[1;34m(self, func, **kwargs)\u001b[0m\n\u001b[0;32m    323\u001b[0m \u001b[38;5;129m@final\u001b[39m\n\u001b[0;32m    324\u001b[0m \u001b[38;5;28;01mdef\u001b[39;00m \u001b[38;5;21mapply\u001b[39m(\u001b[38;5;28mself\u001b[39m, func, \u001b[38;5;241m*\u001b[39m\u001b[38;5;241m*\u001b[39mkwargs) \u001b[38;5;241m-\u001b[39m\u001b[38;5;241m>\u001b[39m \u001b[38;5;28mlist\u001b[39m[Block]:\n\u001b[0;32m    325\u001b[0m \u001b[38;5;250m    \u001b[39m\u001b[38;5;124;03m\"\"\"\u001b[39;00m\n\u001b[0;32m    326\u001b[0m \u001b[38;5;124;03m    apply the function to my values; return a block if we are not\u001b[39;00m\n\u001b[0;32m    327\u001b[0m \u001b[38;5;124;03m    one\u001b[39;00m\n\u001b[0;32m    328\u001b[0m \u001b[38;5;124;03m    \"\"\"\u001b[39;00m\n\u001b[1;32m--> 329\u001b[0m     result \u001b[38;5;241m=\u001b[39m \u001b[43mfunc\u001b[49m\u001b[43m(\u001b[49m\u001b[38;5;28;43mself\u001b[39;49m\u001b[38;5;241;43m.\u001b[39;49m\u001b[43mvalues\u001b[49m\u001b[43m,\u001b[49m\u001b[43m \u001b[49m\u001b[38;5;241;43m*\u001b[39;49m\u001b[38;5;241;43m*\u001b[39;49m\u001b[43mkwargs\u001b[49m\u001b[43m)\u001b[49m\n\u001b[0;32m    331\u001b[0m     \u001b[38;5;28;01mreturn\u001b[39;00m \u001b[38;5;28mself\u001b[39m\u001b[38;5;241m.\u001b[39m_split_op_result(result)\n",
      "File \u001b[1;32m~\\AppData\\Local\\Programs\\Python\\Python311\\Lib\\site-packages\\pandas\\core\\groupby\\groupby.py:1490\u001b[0m, in \u001b[0;36mGroupBy._cython_agg_general.<locals>.array_func\u001b[1;34m(values)\u001b[0m\n\u001b[0;32m   1488\u001b[0m \u001b[38;5;28;01mdef\u001b[39;00m \u001b[38;5;21marray_func\u001b[39m(values: ArrayLike) \u001b[38;5;241m-\u001b[39m\u001b[38;5;241m>\u001b[39m ArrayLike:\n\u001b[0;32m   1489\u001b[0m     \u001b[38;5;28;01mtry\u001b[39;00m:\n\u001b[1;32m-> 1490\u001b[0m         result \u001b[38;5;241m=\u001b[39m \u001b[38;5;28;43mself\u001b[39;49m\u001b[38;5;241;43m.\u001b[39;49m\u001b[43mgrouper\u001b[49m\u001b[38;5;241;43m.\u001b[39;49m\u001b[43m_cython_operation\u001b[49m\u001b[43m(\u001b[49m\n\u001b[0;32m   1491\u001b[0m \u001b[43m            \u001b[49m\u001b[38;5;124;43m\"\u001b[39;49m\u001b[38;5;124;43maggregate\u001b[39;49m\u001b[38;5;124;43m\"\u001b[39;49m\u001b[43m,\u001b[49m\n\u001b[0;32m   1492\u001b[0m \u001b[43m            \u001b[49m\u001b[43mvalues\u001b[49m\u001b[43m,\u001b[49m\n\u001b[0;32m   1493\u001b[0m \u001b[43m            \u001b[49m\u001b[43mhow\u001b[49m\u001b[43m,\u001b[49m\n\u001b[0;32m   1494\u001b[0m \u001b[43m            \u001b[49m\u001b[43maxis\u001b[49m\u001b[38;5;241;43m=\u001b[39;49m\u001b[43mdata\u001b[49m\u001b[38;5;241;43m.\u001b[39;49m\u001b[43mndim\u001b[49m\u001b[43m \u001b[49m\u001b[38;5;241;43m-\u001b[39;49m\u001b[43m \u001b[49m\u001b[38;5;241;43m1\u001b[39;49m\u001b[43m,\u001b[49m\n\u001b[0;32m   1495\u001b[0m \u001b[43m            \u001b[49m\u001b[43mmin_count\u001b[49m\u001b[38;5;241;43m=\u001b[39;49m\u001b[43mmin_count\u001b[49m\u001b[43m,\u001b[49m\n\u001b[0;32m   1496\u001b[0m \u001b[43m            \u001b[49m\u001b[38;5;241;43m*\u001b[39;49m\u001b[38;5;241;43m*\u001b[39;49m\u001b[43mkwargs\u001b[49m\u001b[43m,\u001b[49m\n\u001b[0;32m   1497\u001b[0m \u001b[43m        \u001b[49m\u001b[43m)\u001b[49m\n\u001b[0;32m   1498\u001b[0m     \u001b[38;5;28;01mexcept\u001b[39;00m \u001b[38;5;167;01mNotImplementedError\u001b[39;00m:\n\u001b[0;32m   1499\u001b[0m         \u001b[38;5;66;03m# generally if we have numeric_only=False\u001b[39;00m\n\u001b[0;32m   1500\u001b[0m         \u001b[38;5;66;03m# and non-applicable functions\u001b[39;00m\n\u001b[0;32m   1501\u001b[0m         \u001b[38;5;66;03m# try to python agg\u001b[39;00m\n\u001b[0;32m   1502\u001b[0m         \u001b[38;5;66;03m# TODO: shouldn't min_count matter?\u001b[39;00m\n\u001b[0;32m   1503\u001b[0m         result \u001b[38;5;241m=\u001b[39m \u001b[38;5;28mself\u001b[39m\u001b[38;5;241m.\u001b[39m_agg_py_fallback(values, ndim\u001b[38;5;241m=\u001b[39mdata\u001b[38;5;241m.\u001b[39mndim, alt\u001b[38;5;241m=\u001b[39malt)\n",
      "File \u001b[1;32m~\\AppData\\Local\\Programs\\Python\\Python311\\Lib\\site-packages\\pandas\\core\\groupby\\ops.py:959\u001b[0m, in \u001b[0;36mBaseGrouper._cython_operation\u001b[1;34m(self, kind, values, how, axis, min_count, **kwargs)\u001b[0m\n\u001b[0;32m    957\u001b[0m ids, _, _ \u001b[38;5;241m=\u001b[39m \u001b[38;5;28mself\u001b[39m\u001b[38;5;241m.\u001b[39mgroup_info\n\u001b[0;32m    958\u001b[0m ngroups \u001b[38;5;241m=\u001b[39m \u001b[38;5;28mself\u001b[39m\u001b[38;5;241m.\u001b[39mngroups\n\u001b[1;32m--> 959\u001b[0m \u001b[38;5;28;01mreturn\u001b[39;00m \u001b[43mcy_op\u001b[49m\u001b[38;5;241;43m.\u001b[39;49m\u001b[43mcython_operation\u001b[49m\u001b[43m(\u001b[49m\n\u001b[0;32m    960\u001b[0m \u001b[43m    \u001b[49m\u001b[43mvalues\u001b[49m\u001b[38;5;241;43m=\u001b[39;49m\u001b[43mvalues\u001b[49m\u001b[43m,\u001b[49m\n\u001b[0;32m    961\u001b[0m \u001b[43m    \u001b[49m\u001b[43maxis\u001b[49m\u001b[38;5;241;43m=\u001b[39;49m\u001b[43maxis\u001b[49m\u001b[43m,\u001b[49m\n\u001b[0;32m    962\u001b[0m \u001b[43m    \u001b[49m\u001b[43mmin_count\u001b[49m\u001b[38;5;241;43m=\u001b[39;49m\u001b[43mmin_count\u001b[49m\u001b[43m,\u001b[49m\n\u001b[0;32m    963\u001b[0m \u001b[43m    \u001b[49m\u001b[43mcomp_ids\u001b[49m\u001b[38;5;241;43m=\u001b[39;49m\u001b[43mids\u001b[49m\u001b[43m,\u001b[49m\n\u001b[0;32m    964\u001b[0m \u001b[43m    \u001b[49m\u001b[43mngroups\u001b[49m\u001b[38;5;241;43m=\u001b[39;49m\u001b[43mngroups\u001b[49m\u001b[43m,\u001b[49m\n\u001b[0;32m    965\u001b[0m \u001b[43m    \u001b[49m\u001b[38;5;241;43m*\u001b[39;49m\u001b[38;5;241;43m*\u001b[39;49m\u001b[43mkwargs\u001b[49m\u001b[43m,\u001b[49m\n\u001b[0;32m    966\u001b[0m \u001b[43m\u001b[49m\u001b[43m)\u001b[49m\n",
      "File \u001b[1;32m~\\AppData\\Local\\Programs\\Python\\Python311\\Lib\\site-packages\\pandas\\core\\groupby\\ops.py:657\u001b[0m, in \u001b[0;36mWrappedCythonOp.cython_operation\u001b[1;34m(self, values, axis, min_count, comp_ids, ngroups, **kwargs)\u001b[0m\n\u001b[0;32m    647\u001b[0m \u001b[38;5;28;01mif\u001b[39;00m \u001b[38;5;129;01mnot\u001b[39;00m \u001b[38;5;28misinstance\u001b[39m(values, np\u001b[38;5;241m.\u001b[39mndarray):\n\u001b[0;32m    648\u001b[0m     \u001b[38;5;66;03m# i.e. ExtensionArray\u001b[39;00m\n\u001b[0;32m    649\u001b[0m     \u001b[38;5;28;01mreturn\u001b[39;00m \u001b[38;5;28mself\u001b[39m\u001b[38;5;241m.\u001b[39m_ea_wrap_cython_operation(\n\u001b[0;32m    650\u001b[0m         values,\n\u001b[0;32m    651\u001b[0m         min_count\u001b[38;5;241m=\u001b[39mmin_count,\n\u001b[1;32m   (...)\u001b[0m\n\u001b[0;32m    654\u001b[0m         \u001b[38;5;241m*\u001b[39m\u001b[38;5;241m*\u001b[39mkwargs,\n\u001b[0;32m    655\u001b[0m     )\n\u001b[1;32m--> 657\u001b[0m \u001b[38;5;28;01mreturn\u001b[39;00m \u001b[38;5;28;43mself\u001b[39;49m\u001b[38;5;241;43m.\u001b[39;49m\u001b[43m_cython_op_ndim_compat\u001b[49m\u001b[43m(\u001b[49m\n\u001b[0;32m    658\u001b[0m \u001b[43m    \u001b[49m\u001b[43mvalues\u001b[49m\u001b[43m,\u001b[49m\n\u001b[0;32m    659\u001b[0m \u001b[43m    \u001b[49m\u001b[43mmin_count\u001b[49m\u001b[38;5;241;43m=\u001b[39;49m\u001b[43mmin_count\u001b[49m\u001b[43m,\u001b[49m\n\u001b[0;32m    660\u001b[0m \u001b[43m    \u001b[49m\u001b[43mngroups\u001b[49m\u001b[38;5;241;43m=\u001b[39;49m\u001b[43mngroups\u001b[49m\u001b[43m,\u001b[49m\n\u001b[0;32m    661\u001b[0m \u001b[43m    \u001b[49m\u001b[43mcomp_ids\u001b[49m\u001b[38;5;241;43m=\u001b[39;49m\u001b[43mcomp_ids\u001b[49m\u001b[43m,\u001b[49m\n\u001b[0;32m    662\u001b[0m \u001b[43m    \u001b[49m\u001b[43mmask\u001b[49m\u001b[38;5;241;43m=\u001b[39;49m\u001b[38;5;28;43;01mNone\u001b[39;49;00m\u001b[43m,\u001b[49m\n\u001b[0;32m    663\u001b[0m \u001b[43m    \u001b[49m\u001b[38;5;241;43m*\u001b[39;49m\u001b[38;5;241;43m*\u001b[39;49m\u001b[43mkwargs\u001b[49m\u001b[43m,\u001b[49m\n\u001b[0;32m    664\u001b[0m \u001b[43m\u001b[49m\u001b[43m)\u001b[49m\n",
      "File \u001b[1;32m~\\AppData\\Local\\Programs\\Python\\Python311\\Lib\\site-packages\\pandas\\core\\groupby\\ops.py:497\u001b[0m, in \u001b[0;36mWrappedCythonOp._cython_op_ndim_compat\u001b[1;34m(self, values, min_count, ngroups, comp_ids, mask, result_mask, **kwargs)\u001b[0m\n\u001b[0;32m    494\u001b[0m     \u001b[38;5;66;03m# otherwise we have OHLC\u001b[39;00m\n\u001b[0;32m    495\u001b[0m     \u001b[38;5;28;01mreturn\u001b[39;00m res\u001b[38;5;241m.\u001b[39mT\n\u001b[1;32m--> 497\u001b[0m \u001b[38;5;28;01mreturn\u001b[39;00m \u001b[38;5;28;43mself\u001b[39;49m\u001b[38;5;241;43m.\u001b[39;49m\u001b[43m_call_cython_op\u001b[49m\u001b[43m(\u001b[49m\n\u001b[0;32m    498\u001b[0m \u001b[43m    \u001b[49m\u001b[43mvalues\u001b[49m\u001b[43m,\u001b[49m\n\u001b[0;32m    499\u001b[0m \u001b[43m    \u001b[49m\u001b[43mmin_count\u001b[49m\u001b[38;5;241;43m=\u001b[39;49m\u001b[43mmin_count\u001b[49m\u001b[43m,\u001b[49m\n\u001b[0;32m    500\u001b[0m \u001b[43m    \u001b[49m\u001b[43mngroups\u001b[49m\u001b[38;5;241;43m=\u001b[39;49m\u001b[43mngroups\u001b[49m\u001b[43m,\u001b[49m\n\u001b[0;32m    501\u001b[0m \u001b[43m    \u001b[49m\u001b[43mcomp_ids\u001b[49m\u001b[38;5;241;43m=\u001b[39;49m\u001b[43mcomp_ids\u001b[49m\u001b[43m,\u001b[49m\n\u001b[0;32m    502\u001b[0m \u001b[43m    \u001b[49m\u001b[43mmask\u001b[49m\u001b[38;5;241;43m=\u001b[39;49m\u001b[43mmask\u001b[49m\u001b[43m,\u001b[49m\n\u001b[0;32m    503\u001b[0m \u001b[43m    \u001b[49m\u001b[43mresult_mask\u001b[49m\u001b[38;5;241;43m=\u001b[39;49m\u001b[43mresult_mask\u001b[49m\u001b[43m,\u001b[49m\n\u001b[0;32m    504\u001b[0m \u001b[43m    \u001b[49m\u001b[38;5;241;43m*\u001b[39;49m\u001b[38;5;241;43m*\u001b[39;49m\u001b[43mkwargs\u001b[49m\u001b[43m,\u001b[49m\n\u001b[0;32m    505\u001b[0m \u001b[43m\u001b[49m\u001b[43m)\u001b[49m\n",
      "File \u001b[1;32m~\\AppData\\Local\\Programs\\Python\\Python311\\Lib\\site-packages\\pandas\\core\\groupby\\ops.py:549\u001b[0m, in \u001b[0;36mWrappedCythonOp._call_cython_op\u001b[1;34m(self, values, min_count, ngroups, comp_ids, mask, result_mask, **kwargs)\u001b[0m\n\u001b[0;32m    547\u001b[0m counts \u001b[38;5;241m=\u001b[39m np\u001b[38;5;241m.\u001b[39mzeros(ngroups, dtype\u001b[38;5;241m=\u001b[39mnp\u001b[38;5;241m.\u001b[39mint64)\n\u001b[0;32m    548\u001b[0m \u001b[38;5;28;01mif\u001b[39;00m \u001b[38;5;28mself\u001b[39m\u001b[38;5;241m.\u001b[39mhow \u001b[38;5;129;01min\u001b[39;00m [\u001b[38;5;124m\"\u001b[39m\u001b[38;5;124mmin\u001b[39m\u001b[38;5;124m\"\u001b[39m, \u001b[38;5;124m\"\u001b[39m\u001b[38;5;124mmax\u001b[39m\u001b[38;5;124m\"\u001b[39m, \u001b[38;5;124m\"\u001b[39m\u001b[38;5;124mmean\u001b[39m\u001b[38;5;124m\"\u001b[39m, \u001b[38;5;124m\"\u001b[39m\u001b[38;5;124mlast\u001b[39m\u001b[38;5;124m\"\u001b[39m, \u001b[38;5;124m\"\u001b[39m\u001b[38;5;124mfirst\u001b[39m\u001b[38;5;124m\"\u001b[39m, \u001b[38;5;124m\"\u001b[39m\u001b[38;5;124msum\u001b[39m\u001b[38;5;124m\"\u001b[39m]:\n\u001b[1;32m--> 549\u001b[0m     \u001b[43mfunc\u001b[49m\u001b[43m(\u001b[49m\n\u001b[0;32m    550\u001b[0m \u001b[43m        \u001b[49m\u001b[43mout\u001b[49m\u001b[38;5;241;43m=\u001b[39;49m\u001b[43mresult\u001b[49m\u001b[43m,\u001b[49m\n\u001b[0;32m    551\u001b[0m \u001b[43m        \u001b[49m\u001b[43mcounts\u001b[49m\u001b[38;5;241;43m=\u001b[39;49m\u001b[43mcounts\u001b[49m\u001b[43m,\u001b[49m\n\u001b[0;32m    552\u001b[0m \u001b[43m        \u001b[49m\u001b[43mvalues\u001b[49m\u001b[38;5;241;43m=\u001b[39;49m\u001b[43mvalues\u001b[49m\u001b[43m,\u001b[49m\n\u001b[0;32m    553\u001b[0m \u001b[43m        \u001b[49m\u001b[43mlabels\u001b[49m\u001b[38;5;241;43m=\u001b[39;49m\u001b[43mcomp_ids\u001b[49m\u001b[43m,\u001b[49m\n\u001b[0;32m    554\u001b[0m \u001b[43m        \u001b[49m\u001b[43mmin_count\u001b[49m\u001b[38;5;241;43m=\u001b[39;49m\u001b[43mmin_count\u001b[49m\u001b[43m,\u001b[49m\n\u001b[0;32m    555\u001b[0m \u001b[43m        \u001b[49m\u001b[43mmask\u001b[49m\u001b[38;5;241;43m=\u001b[39;49m\u001b[43mmask\u001b[49m\u001b[43m,\u001b[49m\n\u001b[0;32m    556\u001b[0m \u001b[43m        \u001b[49m\u001b[43mresult_mask\u001b[49m\u001b[38;5;241;43m=\u001b[39;49m\u001b[43mresult_mask\u001b[49m\u001b[43m,\u001b[49m\n\u001b[0;32m    557\u001b[0m \u001b[43m        \u001b[49m\u001b[43mis_datetimelike\u001b[49m\u001b[38;5;241;43m=\u001b[39;49m\u001b[43mis_datetimelike\u001b[49m\u001b[43m,\u001b[49m\n\u001b[0;32m    558\u001b[0m \u001b[43m    \u001b[49m\u001b[43m)\u001b[49m\n\u001b[0;32m    559\u001b[0m \u001b[38;5;28;01melif\u001b[39;00m \u001b[38;5;28mself\u001b[39m\u001b[38;5;241m.\u001b[39mhow \u001b[38;5;129;01min\u001b[39;00m [\u001b[38;5;124m\"\u001b[39m\u001b[38;5;124mvar\u001b[39m\u001b[38;5;124m\"\u001b[39m, \u001b[38;5;124m\"\u001b[39m\u001b[38;5;124mohlc\u001b[39m\u001b[38;5;124m\"\u001b[39m, \u001b[38;5;124m\"\u001b[39m\u001b[38;5;124mprod\u001b[39m\u001b[38;5;124m\"\u001b[39m, \u001b[38;5;124m\"\u001b[39m\u001b[38;5;124mmedian\u001b[39m\u001b[38;5;124m\"\u001b[39m]:\n\u001b[0;32m    560\u001b[0m     func(\n\u001b[0;32m    561\u001b[0m         result,\n\u001b[0;32m    562\u001b[0m         counts,\n\u001b[1;32m   (...)\u001b[0m\n\u001b[0;32m    568\u001b[0m         \u001b[38;5;241m*\u001b[39m\u001b[38;5;241m*\u001b[39mkwargs,\n\u001b[0;32m    569\u001b[0m     )\n",
      "File \u001b[1;32m~\\AppData\\Local\\Programs\\Python\\Python311\\Lib\\site-packages\\pandas\\_libs\\groupby.pyx:717\u001b[0m, in \u001b[0;36mpandas._libs.groupby.group_sum\u001b[1;34m()\u001b[0m\n",
      "\u001b[1;31mTypeError\u001b[0m: unsupported operand type(s) for +: 'datetime.date' and 'datetime.date'"
     ]
    }
   ],
   "source": [
    "# Grouping the weekly_data daywise\n",
    "daywise = weekly_data.groupby('Day').sum()\n",
    "display(daywise)"
   ]
  },
  {
   "cell_type": "code",
   "execution_count": null,
   "id": "8f84b3d5",
   "metadata": {},
   "outputs": [],
   "source": [
    "# Plotting the graphs for a better visualization\n",
    "sns.set_style(\"dark\")\n",
    "plt.figure(figsize=(8,5))\n",
    "\n",
    "# Creating a customized color palette for custom hue according to height of bars\n",
    "vals = daywise.to_numpy().ravel()\n",
    "normalized = (vals - np.min(vals)) / (np.max(vals) - np.min(vals))\n",
    "indices = np.round(normalized * (len(vals) - 1)).astype(np.int32)\n",
    "palette = sns.color_palette('Reds', len(vals))\n",
    "colorPal = np.array(palette).take(indices, axis=0)\n",
    "\n",
    "# Creating a bar plot\n",
    "ax = sns.barplot(x = daywise.index,y= vals,palette=colorPal)\n",
    "plt.ylabel('Total rides')\n",
    "plt.title('Total Rides by week day in July 2014 at NYC')\n",
    "for rect in ax.patches:\n",
    "    ax.text(rect.get_x() + rect.get_width()/2.0,rect.get_height(),int(rect.get_height()), ha='center', va='bottom')"
   ]
  },
  {
   "cell_type": "markdown",
   "id": "13d62cd8",
   "metadata": {},
   "source": [
    "#### Observation 3: According to the bar plot above, rides are maximum on Thursdays and minimum on Sundays. Sundays having the lowest number of rides makes sense logically, as it's a holiday and people often take rest on that day."
   ]
  },
  {
   "cell_type": "code",
   "execution_count": null,
   "id": "5dfac3d9",
   "metadata": {},
   "outputs": [],
   "source": [
    "weekly_data = weekly_data.groupby(['Day','Time']).mean()['Rides']\n",
    "display(weekly_data.head(10))"
   ]
  },
  {
   "cell_type": "code",
   "execution_count": null,
   "id": "5f10954e",
   "metadata": {},
   "outputs": [],
   "source": [
    "# Unstacking the data to create heatmap\n",
    "weekly_data= weekly_data.unstack(level=0)\n",
    "display(weekly_data)"
   ]
  },
  {
   "cell_type": "code",
   "execution_count": null,
   "id": "216df243",
   "metadata": {},
   "outputs": [],
   "source": [
    "plt.figure(figsize=(11,16))\n",
    "sns.heatmap(weekly_data, cmap='Greens')\n",
    "plt.title('Heatmap of average rides in time vs. day grid')"
   ]
  },
  {
   "cell_type": "markdown",
   "id": "bc00f905",
   "metadata": {},
   "source": [
    "Here's another way to look at it using line graphs."
   ]
  },
  {
   "cell_type": "code",
   "execution_count": null,
   "id": "bad83351",
   "metadata": {},
   "outputs": [],
   "source": [
    "plt.figure(figsize=(10,6))\n",
    "weekly_data.plot(ax=plt.gca())\n",
    "plt.title('Average rides per day vs time')\n",
    "plt.ylabel('Average rides')\n",
    "plt.locator_params(axis='x', nbins=10)\n",
    "plt.show()"
   ]
  },
  {
   "cell_type": "markdown",
   "id": "81b3ddeb",
   "metadata": {},
   "source": [
    "We can also plot the average rides on any day as follows."
   ]
  },
  {
   "cell_type": "code",
   "execution_count": null,
   "id": "5c888df2",
   "metadata": {},
   "outputs": [],
   "source": [
    "plt.figure(figsize=(10,6))\n",
    "weekly_data.T.mean().plot(c = 'black')\n",
    "plt.title('Average uber rides on any day in July 2014 at NYC')\n",
    "plt.locator_params(axis='x', nbins=10)\n",
    "plt.show()"
   ]
  },
  {
   "cell_type": "markdown",
   "id": "4b065579",
   "metadata": {},
   "source": [
    "#### Observation 4: This plot further confirms that the average rides on any given day is lowest around 2 AM and highest in the around 5:30 PM."
   ]
  },
  {
   "cell_type": "markdown",
   "id": "26433af8",
   "metadata": {},
   "source": [
    "#### 4. Let's visualise the relationship between Base and total number of rides in July 2014."
   ]
  },
  {
   "cell_type": "code",
   "execution_count": null,
   "id": "0527668a",
   "metadata": {},
   "outputs": [],
   "source": [
    "# A mapper to map base number with its name\n",
    "BaseMapper = {'B02512' : 'Unter', 'B02598' : 'Hinter', 'B02617' : 'Weiter', 'B02682' : 'Schmecken',\n",
    "              'B02764' : 'Danach-NY'}"
   ]
  },
  {
   "cell_type": "code",
   "execution_count": null,
   "id": "a5e491b4",
   "metadata": {},
   "outputs": [],
   "source": [
    "# A mapper to map base number with its name\n",
    "BaseMapper = {'B02512' : 'Unter', 'B02598' : 'Hinter', 'B02617' : 'Weiter', 'B02682' : 'Schmecken',\n",
    "              'B02764' : 'Danach-NY'}"
   ]
  },
  {
   "cell_type": "markdown",
   "id": "a918ade6",
   "metadata": {},
   "source": [
    "#### Observation 5: The above plot tells us that most uber rides originated from Weiter Base and least from Danach-NY. "
   ]
  },
  {
   "cell_type": "markdown",
   "id": "c75e0fa4",
   "metadata": {},
   "source": [
    "#### 5. Now let's make use of latitude and longitude data to see how the uber trips' frequency is distributed across NYC. \n",
    "\n",
    "We will need some center of city to act as origin and we will plot the rest of the coordinates around it. \n",
    "\n",
    "For the example given below, we consider the center as Metropolitan Museum in NYC, whose coordinates are `metro_art_coordinates = (40.7794,-73.9632)`. "
   ]
  },
  {
   "cell_type": "code",
   "execution_count": null,
   "id": "cacf3a95",
   "metadata": {},
   "outputs": [],
   "source": [
    "metro_art_coordinates = (40.7794,-73.9632)"
   ]
  },
  {
   "cell_type": "code",
   "execution_count": null,
   "id": "247f45be",
   "metadata": {},
   "outputs": [],
   "source": [
    "# Initilize the map around NYC and set the zoom level to 10\n",
    "uber_map = folium.Map(location=metro_art_coordinates, zoom_start=10)\n",
    "\n",
    "# Lets mark MM on the map\n",
    "folium.Marker(metro_art_coordinates, popup = \"Metropolitan Museum\").add_to(uber_map)\n",
    "\n",
    "# Convert to numpy array and plot it\n",
    "Lat_Lon = uber_data[['Lat','Lon']].to_numpy()\n",
    "folium.plugins.HeatMap(Lat_Lon,radius=10).add_to(uber_map)\n",
    "\n",
    "# Displaying the map\n",
    "display(uber_map)"
   ]
  },
  {
   "cell_type": "markdown",
   "id": "cbab356e",
   "metadata": {},
   "source": [
    "We can observe that the boundaries and the intensity distribution of the heatmap on the map is not clear. To fix this, we reduce the intensity of each point on the heatmap by using a weight of 0.5 (by default it is 1)."
   ]
  },
  {
   "cell_type": "code",
   "execution_count": null,
   "id": "ef3b4ff5",
   "metadata": {},
   "outputs": [],
   "source": [
    "uber_data['Weight'] = 0.5\n",
    "\n",
    "Lat_Lon = uber_data[['Lat','Lon','Weight']].to_numpy()\n",
    "\n",
    "# Plotting\n",
    "uber_map = folium.Map(metro_art_coordinates, zoom_start=10)\n",
    "folium.Marker(metro_art_coordinates, popup = \"Metropolitan Museum\").add_to(uber_map)\n",
    "folium.plugins.HeatMap(Lat_Lon, radius=15).add_to(uber_map)\n",
    "\n",
    "display(uber_map)"
   ]
  },
  {
   "cell_type": "markdown",
   "id": "f921e5f7",
   "metadata": {},
   "source": [
    "#### 6. Let's visualize the timed data of trips, as a time lapse on a map! "
   ]
  },
  {
   "cell_type": "code",
   "execution_count": null,
   "id": "6a34f719",
   "metadata": {},
   "outputs": [],
   "source": [
    "# Create a copy of the data\n",
    "map_data = uber_data.copy()\n",
    "\n",
    "# Use a smaller weight\n",
    "map_data['Weight'] = 0.4\n",
    "\n",
    "# Generate samples for each timestamp in \"BinnedHour\" (these are the points that are plotted for each timestamp)\n",
    "map_data = map_data.groupby(\"BinnedHour\").apply(lambda x: x[['Lat','Lon','Weight']]\n",
    "                                                .sample(int(len(x)/3)).to_numpy().tolist())"
   ]
  },
  {
   "cell_type": "code",
   "execution_count": null,
   "id": "171c5ddf",
   "metadata": {},
   "outputs": [],
   "source": [
    "display(map_data)"
   ]
  },
  {
   "cell_type": "code",
   "execution_count": null,
   "id": "3b718f2b",
   "metadata": {},
   "outputs": [],
   "source": [
    "# The index to be passed on to heatmapwithtime needs to be a time series of the following format\n",
    "data_hour_index = [x.strftime(\"%m%d%Y, %H:%M:%S\") for x in map_data.index]\n",
    "\n",
    "# Convert to list to feed it to heatmapwithtime\n",
    "date_hour_data = map_data.tolist()\n",
    "\n",
    "# Initialize map\n",
    "uber_map = folium.Map(location=metro_art_coordinates, zoom_start=10)"
   ]
  },
  {
   "cell_type": "code",
   "execution_count": null,
   "id": "bc1a0ba1",
   "metadata": {},
   "outputs": [],
   "source": [
    "# Plotting\n",
    "hm = folium.plugins.HeatMapWithTime(date_hour_data, index=date_hour_data)\n",
    "\n",
    "# Add heatmap to folium map (uber_map)\n",
    "hm.add_to(uber_map)\n",
    "display(uber_map)"
   ]
  },
  {
   "cell_type": "markdown",
   "id": "f5b95e1b",
   "metadata": {},
   "source": [
    "#### 7. Finally, let's make one hypothesis and test if it is true by visualizing the data for that case. \n",
    "\n",
    "**Hypothesis:** In early morning, weekends have more rides. The reasoning is - People often go out at night during the weekends."
   ]
  },
  {
   "cell_type": "code",
   "execution_count": null,
   "id": "333a39c5",
   "metadata": {},
   "outputs": [],
   "source": [
    "weekends = weekly_data[['Saturday','Sunday']]\n",
    "weekdays = weekly_data.drop(['Saturday','Sunday'], axis=1)"
   ]
  },
  {
   "cell_type": "code",
   "execution_count": null,
   "id": "ecd3ab9d",
   "metadata": {},
   "outputs": [],
   "source": [
    "weekends = weekends.mean(axis=1)\n",
    "weekdays = weekdays.mean(axis=1)\n",
    "\n",
    "display(weekends)\n",
    "display(weekdays)"
   ]
  },
  {
   "cell_type": "code",
   "execution_count": null,
   "id": "0b713ce3",
   "metadata": {},
   "outputs": [],
   "source": [
    "weekdays_weekends = pd.concat([weekdays,weekends],axis=1)\n",
    "weekdays_weekends.columns = ['Weekdays','Weekends']\n",
    "display(weekdays_weekends)"
   ]
  },
  {
   "cell_type": "code",
   "execution_count": null,
   "id": "c6082153",
   "metadata": {},
   "outputs": [],
   "source": [
    "plt.figure(figsize=(10,6))\n",
    "weekdays_weekends.plot(ax=plt.gca())\n",
    "weekly_data.T.mean().plot(ax=plt.gca(),c = 'black',label='Net Average')\n",
    "plt.title('Time Averaged Rides: Weekend, Weekdays, Net Average (Whole July)')\n",
    "plt.legend()\n",
    "plt.show()"
   ]
  },
  {
   "cell_type": "markdown",
   "id": "c304ec66",
   "metadata": {},
   "source": [
    "#### Observation 6: The plot clearly shows - In early morning, weekends have more rides. This makes sense as people often go out at night during the weekends.\n",
    "\n",
    "The number of rides around 8 AM is less on weekends, but more on weekdays as it is usually the time when people goto work. Also, in the weekends, there is a surge in the number of evening rides as people return from work.\n",
    "\n",
    "**With this, we finish our analysis of our Uber Pickups NYC Data.**\n",
    "\n",
    "<hr>"
   ]
  }
 ],
 "metadata": {
  "kernelspec": {
   "display_name": "Python 3 (ipykernel)",
   "language": "python",
   "name": "python3"
  },
  "language_info": {
   "codemirror_mode": {
    "name": "ipython",
    "version": 3
   },
   "file_extension": ".py",
   "mimetype": "text/x-python",
   "name": "python",
   "nbconvert_exporter": "python",
   "pygments_lexer": "ipython3",
   "version": "3.11.2"
  }
 },
 "nbformat": 4,
 "nbformat_minor": 5
}
